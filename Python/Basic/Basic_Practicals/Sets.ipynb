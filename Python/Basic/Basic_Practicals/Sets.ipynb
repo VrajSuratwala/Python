{
 "cells": [
  {
   "cell_type": "code",
   "execution_count": 1,
   "id": "4a2d68cf",
   "metadata": {},
   "outputs": [
    {
     "name": "stdout",
     "output_type": "stream",
     "text": [
      "Hello World!\n"
     ]
    }
   ],
   "source": [
    "print(\"Hello World!\")"
   ]
  },
  {
   "cell_type": "code",
   "execution_count": 2,
   "id": "bfaa7fbc",
   "metadata": {},
   "outputs": [
    {
     "name": "stdout",
     "output_type": "stream",
     "text": [
      "{1, 2, 3, 4, 5, 6, 7, 8, 9, 10}\n",
      "<class 'set'>\n"
     ]
    }
   ],
   "source": [
    "s1 ={\n",
    "    1,2,3,4,5,6,7,8,9,10\n",
    "}\n",
    "print(s1)\n",
    "print(type(s1))"
   ]
  },
  {
   "cell_type": "code",
   "execution_count": 3,
   "id": "a3073580",
   "metadata": {},
   "outputs": [
    {
     "name": "stdout",
     "output_type": "stream",
     "text": [
      "{'EDF', 'CDE', 'ABC', 'BCD'}\n"
     ]
    }
   ],
   "source": [
    "# Type Casting List to Set\n",
    "s2 = set([\"ABC\",\"BCD\",\"CDE\",\"EDF\"])\n",
    "print(s2)"
   ]
  },
  {
   "cell_type": "code",
   "execution_count": 5,
   "id": "172b8eaa",
   "metadata": {},
   "outputs": [
    {
     "name": "stdout",
     "output_type": "stream",
     "text": [
      "{'CDE', 'ABC', 'BCD', 'EDF', 'HGH'}\n"
     ]
    }
   ],
   "source": [
    "# Adding an Element in a Set!\n",
    "s2.add(\"HGH\")\n",
    "\n",
    "print(s2)"
   ]
  },
  {
   "cell_type": "code",
   "execution_count": 6,
   "id": "f56e1658",
   "metadata": {},
   "outputs": [
    {
     "name": "stdout",
     "output_type": "stream",
     "text": [
      "frozenset({10, 20, 30})\n"
     ]
    }
   ],
   "source": [
    "# Frozen sets in Python are immutable objects that only support methods \n",
    "# and operators that produce a result without affecting the frozen set or sets to which they are applied. \n",
    "# It can be done with frozenset() method in Python.\n",
    "\n",
    "s3 = frozenset([10,20,30])\n",
    "print(s3)"
   ]
  },
  {
   "cell_type": "code",
   "execution_count": 8,
   "id": "95cc8ee1",
   "metadata": {},
   "outputs": [
    {
     "name": "stdout",
     "output_type": "stream",
     "text": [
      "Set A: {1, 2, 3, 4}\n",
      "Set B: {3, 4, 5, 6}\n",
      "Empty Set: set()\n",
      "Set with duplicates removed: {1, 2, 3}\n",
      "After adding 10 to Set A: {1, 2, 3, 4, 10}\n",
      "After removing 2 from Set A: {1, 3, 4, 10}\n",
      "After discarding 100 from Set A: {1, 3, 4, 10}\n",
      "\n",
      "--- Set Operations ---\n",
      "Union: {1, 3, 4, 5, 6, 10}\n",
      "Intersection: {3, 4}\n",
      "Difference (A - B): {1, 10}\n",
      "Symmetric Difference: {1, 5, 6, 10}\n",
      "\n",
      "Is 3 in Set B? True\n",
      "Is 100 not in Set A? True\n",
      "\n",
      "Iterating over Set B:\n",
      "3 4 5 6 \n",
      "\n",
      "--- Set Methods ---\n",
      "After update: {1, 2, 3, 4, 5}\n",
      "After clear: set()\n",
      "Frozen Set: frozenset({1, 2, 3})\n",
      "\n",
      "Is target in nums? True\n",
      "Unique names: ['Alice', 'Bob', 'Charlie']\n"
     ]
    }
   ],
   "source": [
    "# -------------------------------\n",
    "#  SETS IN PYTHON - FULL DEMO\n",
    "# -------------------------------\n",
    "\n",
    "#  Creating Sets\n",
    "set_a = {1, 2, 3, 4}\n",
    "set_b = set([3, 4, 5, 6])\n",
    "set_empty = set()\n",
    "\n",
    "print(\"Set A:\", set_a)\n",
    "print(\"Set B:\", set_b)\n",
    "print(\"Empty Set:\", set_empty)\n",
    "\n",
    "#  Duplicates are ignored\n",
    "set_with_duplicates = {1, 2, 2, 3}\n",
    "print(\"Set with duplicates removed:\", set_with_duplicates)\n",
    "\n",
    "#  Adding Elements\n",
    "set_a.add(10)\n",
    "print(\"After adding 10 to Set A:\", set_a)\n",
    "\n",
    "#  Removing Elements\n",
    "set_a.remove(2)  # Raises error if not found\n",
    "print(\"After removing 2 from Set A:\", set_a)\n",
    "\n",
    "set_a.discard(100)  # Safe remove, no error if not found\n",
    "print(\"After discarding 100 from Set A:\", set_a)\n",
    "\n",
    "#  Set Operations\n",
    "print(\"\\n--- Set Operations ---\")\n",
    "print(\"Union:\", set_a | set_b)\n",
    "print(\"Intersection:\", set_a & set_b)\n",
    "print(\"Difference (A - B):\", set_a - set_b)\n",
    "print(\"Symmetric Difference:\", set_a ^ set_b)\n",
    "\n",
    "#  Membership Test\n",
    "print(\"\\nIs 3 in Set B?\", 3 in set_b)\n",
    "print(\"Is 100 not in Set A?\", 100 not in set_a)\n",
    "\n",
    "#  Iterating Over a Set\n",
    "print(\"\\nIterating over Set B:\")\n",
    "for item in set_b:\n",
    "    print(item, end=\" \")\n",
    "\n",
    "#  Set Methods\n",
    "print(\"\\n\\n--- Set Methods ---\")\n",
    "sample_set = {1, 2, 3}\n",
    "sample_set.update([4, 5])  # Add multiple elements\n",
    "print(\"After update:\", sample_set)\n",
    "\n",
    "sample_set.clear()\n",
    "print(\"After clear:\", sample_set)\n",
    "\n",
    "#  Frozen Set (Immutable)\n",
    "frozen = frozenset([1, 2, 3])\n",
    "print(\"Frozen Set:\", frozen)\n",
    "\n",
    "# frozen.add(4)  # ❌ Error: can't modify frozen sets\n",
    "\n",
    "#  Interview Tip: Use sets for fast membership checks\n",
    "nums = [1, 2, 3, 4, 5]\n",
    "target = 3\n",
    "num_set = set(nums)\n",
    "print(\"\\nIs target in nums?\", target in num_set)  # O(1) lookup\n",
    "\n",
    "#  Real-world Use Case: Removing duplicates from a list\n",
    "names = [\"Alice\", \"Bob\", \"Alice\", \"Charlie\"]\n",
    "unique_names = list(set(names))\n",
    "print(\"Unique names:\", unique_names)\n"
   ]
  }
 ],
 "metadata": {
  "kernelspec": {
   "display_name": "Python 3",
   "language": "python",
   "name": "python3"
  },
  "language_info": {
   "codemirror_mode": {
    "name": "ipython",
    "version": 3
   },
   "file_extension": ".py",
   "mimetype": "text/x-python",
   "name": "python",
   "nbconvert_exporter": "python",
   "pygments_lexer": "ipython3",
   "version": "3.12.3"
  }
 },
 "nbformat": 4,
 "nbformat_minor": 5
}
