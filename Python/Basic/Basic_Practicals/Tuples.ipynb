{
 "cells": [
  {
   "cell_type": "code",
   "execution_count": 1,
   "id": "eebf1ec9",
   "metadata": {},
   "outputs": [
    {
     "name": "stdout",
     "output_type": "stream",
     "text": [
      "This is Tuple Example!\n"
     ]
    }
   ],
   "source": [
    "print(\"This is Tuple Example!\")"
   ]
  },
  {
   "cell_type": "code",
   "execution_count": 3,
   "id": "4ae04960",
   "metadata": {},
   "outputs": [
    {
     "name": "stdout",
     "output_type": "stream",
     "text": [
      "(10, 20, 30, 40, 50)\n",
      "<class 'tuple'>\n"
     ]
    }
   ],
   "source": [
    "tuple_1 = (10,20,30,40,50)\n",
    "print(tuple_1)\n",
    "print(type(tuple_1))"
   ]
  },
  {
   "cell_type": "code",
   "execution_count": 6,
   "id": "cd87e275",
   "metadata": {},
   "outputs": [
    {
     "name": "stdout",
     "output_type": "stream",
     "text": [
      "<class 'tuple'>\n",
      "(10, 20, 30)\n"
     ]
    }
   ],
   "source": [
    "tuple_1_1 = 10,20,30\n",
    "print(type(tuple_1_1))\n",
    "print(tuple_1_1)"
   ]
  },
  {
   "cell_type": "code",
   "execution_count": 13,
   "id": "69a0d9b8",
   "metadata": {},
   "outputs": [
    {
     "name": "stdout",
     "output_type": "stream",
     "text": [
      "<class 'tuple'>\n",
      "(10, 20, 30)\n",
      "<class 'tuple'>\n",
      "(1,)\n",
      "<class 'tuple'>\n",
      "(0, 1, 2, 3, 4, 5, 6, 7, 8, 9)\n",
      "<class 'tuple'>\n",
      "(100, 200)\n"
     ]
    }
   ],
   "source": [
    "# other way to create tuples\n",
    "\n",
    "# tuple() - constructor\n",
    "tuple_1_2 = tuple([10,20,30])\n",
    "print(type(tuple_1_2))\n",
    "print(tuple_1_2)\n",
    "\n",
    "# Create single values tuple\n",
    "tuple_1_3 = (1,)\n",
    "print(type(tuple_1_3))\n",
    "print(tuple_1_3)\n",
    "\n",
    "# Creating a tuple via comprehension\n",
    "tuple_1_4 = tuple(x for x in range(10))\n",
    "print(type(tuple_1_4))\n",
    "print(tuple_1_4)\n",
    "\n",
    "# Creating via Packing Methods\n",
    "a = 100\n",
    "b = 200\n",
    "\n",
    "tuple_1_5 = a,b\n",
    "print(type(tuple_1_5))\n",
    "print(tuple_1_5)"
   ]
  },
  {
   "cell_type": "code",
   "execution_count": null,
   "id": "4d43780b",
   "metadata": {},
   "outputs": [
    {
     "name": "stdout",
     "output_type": "stream",
     "text": [
      "1\n",
      "7\n",
      "(0, 1, 2, 3, 4, 5)\n",
      "(0, 3, 6, 9)\n",
      "(0, 2, 4, 6, 8)\n",
      "0\n",
      "1\n",
      "2\n",
      "3\n",
      "4\n",
      "5\n",
      "6\n",
      "7\n",
      "8\n",
      "9\n"
     ]
    }
   ],
   "source": [
    "# Access Operation on Tuples.\n",
    "\n",
    "# Indexing\n",
    "print(tuple_1_4[1])\n",
    "\n",
    "# Negative Indexing\n",
    "print(tuple_1_4[-3])\n",
    "\n",
    "# Slicing\n",
    "print(tuple_1_4[0:6])\n",
    "\n",
    "# Step Slicing\n",
    "print(tuple_1_4[0::3])\n",
    "\n",
    "# Step Slicing\n",
    "print(tuple_1_4[::2])\n",
    "\n",
    "# Looping\n",
    "for x in tuple_1_4:\n",
    "    print(tuple_1_4[x])"
   ]
  },
  {
   "cell_type": "code",
   "execution_count": 33,
   "id": "a1ede45f",
   "metadata": {},
   "outputs": [
    {
     "name": "stdout",
     "output_type": "stream",
     "text": [
      "(100, 200, 300, 400, 500, (10, 20, 30, 40, 50), 600, 700, 800, 900, 1000)\n",
      "<class 'tuple'>\n",
      "(10, 20, 30, 40, 50)\n",
      "<class 'tuple'>\n",
      "40\n"
     ]
    }
   ],
   "source": [
    "# Let's Create and Access Multi-dimensional Tuples\n",
    "\n",
    "tuple_2 = (100,200,300,400,500,(10,20,30,40,50),600,700,800,900,1000)\n",
    "print(tuple_2)\n",
    "print(type(tuple_2))\n",
    "\n",
    "# Accessing Nested Tuple\n",
    "Nested_Tuple = tuple_2[5]\n",
    "print(Nested_Tuple)\n",
    "print(type(Nested_Tuple))\n",
    "\n",
    "# Accessing\n",
    "print(Nested_Tuple[3])"
   ]
  },
  {
   "cell_type": "code",
   "execution_count": 35,
   "id": "405c42e4",
   "metadata": {},
   "outputs": [
    {
     "name": "stdout",
     "output_type": "stream",
     "text": [
      "100\n",
      "200\n",
      "300\n",
      "400\n",
      "500\n",
      "(10, 20, 30, 40, 50)\n",
      "600\n",
      "700\n",
      "800\n",
      "900\n",
      "1000\n",
      "(0, 100)\n",
      "(1, 200)\n",
      "(2, 300)\n",
      "(3, 400)\n",
      "(4, 500)\n",
      "(5, (10, 20, 30, 40, 50))\n",
      "(6, 600)\n",
      "(7, 700)\n",
      "(8, 800)\n",
      "(9, 900)\n",
      "(10, 1000)\n"
     ]
    }
   ],
   "source": [
    "# Iteration in Tuples\n",
    "\n",
    "# for loop\n",
    "\n",
    "for item in tuple_2:\n",
    "    print(item)\n",
    "    \n",
    "    \n",
    "# enumeration\n",
    "for item in enumerate(tuple_2):\n",
    "    print(item)"
   ]
  },
  {
   "cell_type": "code",
   "execution_count": 42,
   "id": "887d8faf",
   "metadata": {},
   "outputs": [
    {
     "name": "stdout",
     "output_type": "stream",
     "text": [
      "(10, 20, 30, 40, 'ABC', 'BCD', 'CDE', 'EFG')\n",
      "(10, 20, 30, 40, 'ABC', 'BCD', 'CDE', 'EFG', 10.1, 20.2, 30.0)\n",
      "ABCAB\n",
      "BCDBC\n",
      "CDECD\n",
      "EFGDE\n"
     ]
    }
   ],
   "source": [
    "# Merging The Tuples\n",
    "\n",
    "tuple_3 = (10,20,30,40)\n",
    "tuple_4 = (\"ABC\",\"BCD\",\"CDE\",\"EFG\")\n",
    "tuple_5 = (10.10,20.20,30.0)\n",
    "tuple_6 = (\"AB\",\"BC\",\"CD\",\"DE\")\n",
    "\n",
    "# using '+' Operator\n",
    "print(tuple_3 + tuple_4)\n",
    "\n",
    "# Merging of Multiple Tuples\n",
    "print(tuple_3 + tuple_4 + tuple_5)\n",
    "\n",
    "# using Loop\n",
    "for x in range(len(tuple_6)):\n",
    "    print(tuple_4[x] + tuple_6[x])\n",
    "    \n"
   ]
  },
  {
   "cell_type": "code",
   "execution_count": 43,
   "id": "9e050ef7",
   "metadata": {},
   "outputs": [
    {
     "name": "stdout",
     "output_type": "stream",
     "text": [
      "5\n",
      "50\n",
      "10\n",
      "150\n",
      "[10, 20, 30, 40, 50]\n",
      "2\n",
      "1\n"
     ]
    }
   ],
   "source": [
    "t = (10, 20, 30, 40, 50)\n",
    "\n",
    "print(len(t))         # 5\n",
    "print(max(t))         # 50\n",
    "print(min(t))         # 10\n",
    "print(sum(t))         # 150\n",
    "print(sorted(t))      # [10, 20, 30, 40, 50]\n",
    "print(t.index(30))    # 2\n",
    "print(t.count(20))    # 1\n"
   ]
  },
  {
   "cell_type": "code",
   "execution_count": 53,
   "id": "16af35c7",
   "metadata": {},
   "outputs": [
    {
     "name": "stdout",
     "output_type": "stream",
     "text": [
      "<class 'tuple'>\n",
      "(50, 500, 5000, 50000, 500000)\n"
     ]
    }
   ],
   "source": [
    "# Delete Operation in Tuples\n",
    "tuple_7 = (50,500,5000,50000,500000)  \n",
    "print(type(tuple_7))\n",
    "print(tuple_7) \n",
    "\n",
    "# deleting specific element from position x\n",
    "tuple_7_list = list(tuple_7)\n",
    "type(tuple_7_list)\n",
    "del tuple_7_list[2]\n",
    "\n",
    "del tuple_7"
   ]
  },
  {
   "cell_type": "code",
   "execution_count": null,
   "id": "680f93c1",
   "metadata": {},
   "outputs": [],
   "source": [
    "# Update Operation\n",
    "\n",
    "# Update is not directly Possible on Tuples because it is immutable.\n",
    "# But Like Deletion Operation We can convert it into list and Update it!\n",
    "\n",
    "# Refer List Updation from it's Notes! "
   ]
  }
 ],
 "metadata": {
  "kernelspec": {
   "display_name": "Python 3",
   "language": "python",
   "name": "python3"
  },
  "language_info": {
   "codemirror_mode": {
    "name": "ipython",
    "version": 3
   },
   "file_extension": ".py",
   "mimetype": "text/x-python",
   "name": "python",
   "nbconvert_exporter": "python",
   "pygments_lexer": "ipython3",
   "version": "3.12.3"
  }
 },
 "nbformat": 4,
 "nbformat_minor": 5
}
