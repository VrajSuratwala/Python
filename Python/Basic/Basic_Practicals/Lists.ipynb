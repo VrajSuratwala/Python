{
 "cells": [
  {
   "cell_type": "code",
   "execution_count": 1,
   "id": "55b4d643",
   "metadata": {},
   "outputs": [
    {
     "name": "stdout",
     "output_type": "stream",
     "text": [
      "[10, 20, 30, 40, 50, 60, 70, 80, 90, 100]\n"
     ]
    }
   ],
   "source": [
    "# Creating a List of Integer Values\n",
    "\n",
    "integer_lists = [10,20,30,40,50,60,70,80,90,100]\n",
    "print(integer_lists)"
   ]
  },
  {
   "cell_type": "code",
   "execution_count": 2,
   "id": "2b29190a",
   "metadata": {},
   "outputs": [
    {
     "name": "stdout",
     "output_type": "stream",
     "text": [
      "['ABC', 'BCD', 'CDE', 'EFG', 'HIJ']\n"
     ]
    }
   ],
   "source": [
    "# Creating a List of String Values\n",
    "\n",
    "string_lists = [\"ABC\",\"BCD\",\"CDE\",\"EFG\",\"HIJ\"]\n",
    "print(string_lists)                "
   ]
  },
  {
   "cell_type": "code",
   "execution_count": 4,
   "id": "c1e32156",
   "metadata": {},
   "outputs": [
    {
     "name": "stdout",
     "output_type": "stream",
     "text": [
      "[10, 20, 10.1, 'ABC', True]\n"
     ]
    }
   ],
   "source": [
    "# List of Mixed Data Type\n",
    "\n",
    "mixed_lists = [10,20,10.10,\"ABC\",True]\n",
    "print(mixed_lists)"
   ]
  },
  {
   "cell_type": "code",
   "execution_count": null,
   "id": "b2cc66a3",
   "metadata": {},
   "outputs": [
    {
     "name": "stdout",
     "output_type": "stream",
     "text": [
      "<class 'list'>\n"
     ]
    }
   ],
   "source": [
    "# Using list Constructor\n",
    "\n",
    "# From tuple\n",
    "list_constructor = list((10,20,30,40,50))\n",
    "print(type(list_constructor))"
   ]
  },
  {
   "cell_type": "code",
   "execution_count": 7,
   "id": "909d5487",
   "metadata": {},
   "outputs": [
    {
     "name": "stdout",
     "output_type": "stream",
     "text": [
      "<class 'list'>\n",
      "[2, 2, 2, 2, 2]\n"
     ]
    }
   ],
   "source": [
    "# Crating a list with repeated elements.\n",
    "\n",
    "list_data_1 = [2]*5\n",
    "print(type(list_data_1))\n",
    "print(list_data_1)"
   ]
  },
  {
   "cell_type": "code",
   "execution_count": 10,
   "id": "4722d84d",
   "metadata": {},
   "outputs": [],
   "source": [
    "List_Data_2 = [\"ABC\",\"0\",\"1.1\"]"
   ]
  },
  {
   "cell_type": "code",
   "execution_count": 12,
   "id": "91c78982",
   "metadata": {},
   "outputs": [
    {
     "name": "stdout",
     "output_type": "stream",
     "text": [
      "ABC\n",
      "1.1\n"
     ]
    }
   ],
   "source": [
    "# Access List_Data_2\n",
    "print(List_Data_2[0]) #Positive indexing\n",
    "print(List_Data_2[-1])#Negative indexing"
   ]
  },
  {
   "cell_type": "code",
   "execution_count": null,
   "id": "18a15ed9",
   "metadata": {},
   "outputs": [
    {
     "name": "stdout",
     "output_type": "stream",
     "text": [
      "['ABC', '0', '1.1', 10]\n"
     ]
    }
   ],
   "source": [
    "# Adding elements into List_Data_2\n",
    "\n",
    "\n",
    "# append() - will add the element at the end of List\n",
    "List_Data_2.append(10)\n",
    "print(List_Data_2)\n"
   ]
  },
  {
   "cell_type": "code",
   "execution_count": 37,
   "id": "153205a8",
   "metadata": {},
   "outputs": [
    {
     "name": "stdout",
     "output_type": "stream",
     "text": [
      "['ABC', '1.1', 10, 50, 60, 800, 900]\n"
     ]
    }
   ],
   "source": [
    "# extend() - can add the multiple element at the end of List!\n",
    "List_Data_2.extend([50,60,800,900])\n",
    "print(List_Data_2)"
   ]
  },
  {
   "cell_type": "code",
   "execution_count": 38,
   "id": "1dbea5b9",
   "metadata": {},
   "outputs": [
    {
     "name": "stdout",
     "output_type": "stream",
     "text": [
      "['ABC', '1.1', 'STRING_DATA', 10, 50, 60, 800, 900]\n"
     ]
    }
   ],
   "source": [
    "# insert() - inserting any element at specific index.\n",
    "\n",
    "List_Data_2.insert(2,\"STRING_DATA\")\n",
    "print(List_Data_2)"
   ]
  },
  {
   "cell_type": "code",
   "execution_count": 39,
   "id": "c3c298d9",
   "metadata": {},
   "outputs": [
    {
     "name": "stdout",
     "output_type": "stream",
     "text": [
      "['ABC', '1.1', 'STRING_DATA:ABCDEFG', 10, 50, 60, 800, 900]\n"
     ]
    }
   ],
   "source": [
    "# Updating Element from List\n",
    "\n",
    "List_Data_2[2] = \"STRING_DATA:ABCDEFG\"\n",
    "print(List_Data_2)"
   ]
  },
  {
   "cell_type": "code",
   "execution_count": null,
   "id": "46fb0235",
   "metadata": {},
   "outputs": [
    {
     "name": "stdout",
     "output_type": "stream",
     "text": [
      "['ABC', '1.1', 'STRING_DATA:ABCDEFG', 10, 50, 60, 800]\n"
     ]
    }
   ],
   "source": [
    "# Removing Element from List\n",
    "\n",
    "# remove() - Remove Element which is Matching an Occurrence and Remove First Occurrence element.\n",
    "List_Data_2.remove(900)\n",
    "print(List_Data_2)"
   ]
  },
  {
   "cell_type": "code",
   "execution_count": 43,
   "id": "4c2da1b4",
   "metadata": {},
   "outputs": [
    {
     "data": {
      "text/plain": [
       "'ABC'"
      ]
     },
     "execution_count": 43,
     "metadata": {},
     "output_type": "execute_result"
    }
   ],
   "source": [
    "# pop(): Removes the element at a specific index or the last element if no index is specified.\n",
    "\n",
    "List_Data_2.pop(0)"
   ]
  },
  {
   "cell_type": "code",
   "execution_count": 45,
   "id": "74148e10",
   "metadata": {},
   "outputs": [],
   "source": [
    "# del statement : Deleting an element from specific index.\n",
    "del List_Data_2[0]"
   ]
  },
  {
   "cell_type": "code",
   "execution_count": 46,
   "id": "e0facaf4",
   "metadata": {},
   "outputs": [
    {
     "name": "stdout",
     "output_type": "stream",
     "text": [
      "['STRING_DATA:ABCDEFG', 10, 50, 60, 800]\n"
     ]
    }
   ],
   "source": [
    "print(List_Data_2)"
   ]
  },
  {
   "cell_type": "code",
   "execution_count": null,
   "id": "bbd6b18d",
   "metadata": {},
   "outputs": [
    {
     "name": "stdout",
     "output_type": "stream",
     "text": [
      "[10, 20, 30, 40, 50, 60, 70, 80, 90, 'Apple', 'Banana', 'Orange', 'Kiwi', 'Blue_Berry', 'Cherry']\n",
      "10\n",
      "20\n",
      "30\n",
      "40\n",
      "50\n",
      "60\n",
      "70\n",
      "80\n",
      "90\n",
      "Apple\n",
      "Banana\n",
      "Orange\n",
      "Kiwi\n",
      "Blue_Berry\n",
      "Cherry\n"
     ]
    }
   ],
   "source": [
    "# Iterating though List in Python\n",
    "# List_Data_3\n",
    "List_Data_3 = [10,20,30,40,50,60,70,80,90,\"Apple\",\"Banana\",\"Orange\",\"Kiwi\",\"Blue_Berry\",\"Cherry\"]\n",
    "\n",
    "print(List_Data_3)\n",
    "\n",
    "# Using Simple For Loop\n",
    "for i in List_Data_3:\n",
    "    print(i)\n",
    "    \n",
    "# Using range() method\n",
    "for i in range(len(List_Data_3)):\n",
    "    print(i, List_Data_3[i])\n",
    "    \n",
    "    \n",
    "# enumerate()\n",
    "for i,List_Data_3 in enumerate(List_Data_3):\n",
    "    print(i,List_Data_3)\n",
    "    \n",
    "# while loop\n",
    "i = 0\n",
    "while i <len(List_Data_3):\n",
    "    print(List_Data_3[i])\n",
    "    i+=1\n",
    "    "
   ]
  },
  {
   "cell_type": "code",
   "execution_count": 59,
   "id": "1d44c0b5",
   "metadata": {},
   "outputs": [
    {
     "name": "stdout",
     "output_type": "stream",
     "text": [
      "10\n",
      "20\n",
      "30\n",
      "40\n",
      "50\n",
      "60\n",
      "70\n",
      "80\n",
      "90\n",
      "Apple\n",
      "Banana\n",
      "Orange\n",
      "Kiwi\n",
      "Blue_Berry\n",
      "Cherry\n",
      "10\n",
      "20\n",
      "30\n",
      "40\n",
      "50\n",
      "60\n",
      "70\n",
      "80\n",
      "90\n",
      "Apple\n",
      "Banana\n",
      "Orange\n",
      "Kiwi\n",
      "Blue_Berry\n",
      "Cherry\n",
      "Cherry\n",
      "Blue_Berry\n",
      "Kiwi\n",
      "Orange\n",
      "Banana\n",
      "Apple\n",
      "90\n",
      "80\n",
      "70\n",
      "60\n",
      "50\n",
      "40\n",
      "30\n",
      "20\n",
      "10\n"
     ]
    }
   ],
   "source": [
    "#  List Comprehension[]\n",
    "[print(List_Data_3_data) for List_Data_3_data in List_Data_3]\n",
    "\n",
    "# map  method\n",
    "list(map(print,List_Data_3))\n",
    "\n",
    "# Reverse Printing\n",
    "\n",
    "for i in reversed(List_Data_3):\n",
    "    print(i)"
   ]
  },
  {
   "cell_type": "code",
   "execution_count": 62,
   "id": "38917bcd",
   "metadata": {},
   "outputs": [
    {
     "name": "stdout",
     "output_type": "stream",
     "text": [
      "Banana  is  Yellow\n",
      "Orange  is  Orange\n",
      "Apple  is  Red\n"
     ]
    }
   ],
   "source": [
    "# Zip() method to iterate in teo list at a time.\n",
    "\n",
    "fruits = [\"Banana\",\"Orange\",\"Apple\"]\n",
    "color  = [\"Yellow\",\"Orange\",\"Red\"]\n",
    "\n",
    "for fruit_name,colors in  zip(fruits,color):\n",
    "    print(fruit_name ,\" is \" , colors)"
   ]
  },
  {
   "cell_type": "code",
   "execution_count": 63,
   "id": "e22740ec",
   "metadata": {},
   "outputs": [
    {
     "name": "stdout",
     "output_type": "stream",
     "text": [
      "Yellow\n",
      "Orange\n",
      "Red\n"
     ]
    }
   ],
   "source": [
    "# iter() and next()\n",
    "\n",
    "it = iter(color)\n",
    "print(next(it))\n",
    "print(next(it))\n",
    "print(next(it))\n"
   ]
  },
  {
   "cell_type": "code",
   "execution_count": 67,
   "id": "d220af77",
   "metadata": {},
   "outputs": [
    {
     "name": "stdout",
     "output_type": "stream",
     "text": [
      "(0, 'Banana')\n",
      "(1, 'Apple')\n"
     ]
    }
   ],
   "source": [
    "# skipping an element in enumeration\n",
    "for i in enumerate(fruits[::2]):\n",
    "    print(i)"
   ]
  },
  {
   "cell_type": "code",
   "execution_count": null,
   "id": "2b8de738",
   "metadata": {},
   "outputs": [
    {
     "name": "stdout",
     "output_type": "stream",
     "text": [
      "[10, 20, 30, 40, 50, 20, 30, 50, 80, 90]\n",
      "[10, 20, 30, 40, 50, 20, 30, 50, 80, 90]\n",
      "[10, 20, 30, 40, 50, 20, 30, 50, 80, 90, 20, 30, 50, 80, 90]\n",
      "[10, 20, 30, 40, 50, 20, 30, 50, 80, 90, 20, 30, 50, 80, 90, 20, 30, 50, 80, 90, 'ABC', 'BCD']\n"
     ]
    }
   ],
   "source": [
    "# Merging The Lists\n",
    "\n",
    "List1 = [10,20,30,40,50]\n",
    "List2 = [20,30,50,80,90]\n",
    "\n",
    "# + Operator.\n",
    "print(List1 + List2)\n",
    "\n",
    "# += Operator\n",
    "List1+=List2\n",
    "print(List1)\n",
    "\n",
    "# .extend Operator\n",
    "List1.extend(List2)\n",
    "print(List1)\n",
    "\n",
    "# Unpacking with *\n",
    "merged = [*List1, * List2 , *[\"ABC\",\"BCD\"]]\n",
    "print(merged)\n",
    "\n"
   ]
  },
  {
   "cell_type": "code",
   "execution_count": null,
   "id": "ff867cc6",
   "metadata": {},
   "outputs": [],
   "source": [
    "from itertools import chain\n",
    "merged = list(chain(List1, List2))\n",
    "print()"
   ]
  },
  {
   "cell_type": "code",
   "execution_count": 76,
   "id": "89cdc7a7",
   "metadata": {},
   "outputs": [
    {
     "name": "stdout",
     "output_type": "stream",
     "text": [
      "[10, 20, 30, 40, 50, 20, 30, 50, 80, 90, 20, 30, 50, 80, 90, 20, 30, 50, 80, 90]\n"
     ]
    }
   ],
   "source": [
    "merged = [x for x in List1 + List2 if x % 2 == 0]\n",
    "print(merged)\n"
   ]
  },
  {
   "cell_type": "code",
   "execution_count": 86,
   "id": "e95e76f9",
   "metadata": {},
   "outputs": [
    {
     "name": "stdout",
     "output_type": "stream",
     "text": [
      "[30, 50, 60]\n",
      "[10, 20, 30, 50, 60, 40, 800, 900, 500, 200]\n",
      "[10, 20, 30, 50, 60, 40, 800]\n",
      "[10, 30, 60, 800, 500]\n",
      "[50, 60, 40, 800, 900, 500, 200]\n"
     ]
    }
   ],
   "source": [
    "# Slicing in Lists\n",
    "\n",
    "List_3 = [10,20,30,50,60,40,800,900,500,200]\n",
    "print(List_3[2:5])\n",
    "print(List_3[0:])\n",
    "print(List_3[:7])\n",
    "print(List_3[::2])\n",
    "\n",
    "del(List_3[:3])\n",
    "print(List_3)"
   ]
  },
  {
   "cell_type": "code",
   "execution_count": 102,
   "id": "9267f732",
   "metadata": {},
   "outputs": [
    {
     "name": "stdout",
     "output_type": "stream",
     "text": [
      "1\n",
      "1\n",
      "[40, 50, 60, 200, 500, 800, 900]\n",
      "[900, 800, 500, 200, 60, 50, 40]\n",
      "[40, 50, 60, 200, 500, 800, 900]\n",
      "7\n",
      "40\n",
      "900\n",
      "2550\n",
      "[40, 50, 60, 200, 500, 800, 900]\n"
     ]
    }
   ],
   "source": [
    "# Built in Functions Example\n",
    "\n",
    "print(List_3.index(50))\n",
    "print(List_3.count(50))\n",
    "List_3.sort()\n",
    "print(List_3)\n",
    "List_3.sort(reverse=True)\n",
    "print(List_3)\n",
    "List_3.reverse()\n",
    "print(List_3)\n",
    "print(len(List_3))\n",
    "print(min(List_3))\n",
    "print(max(List_3))\n",
    "print(sum(List_3))\n",
    "List_3_Copy = List_3\n",
    "print(List_3_Copy)"
   ]
  },
  {
   "cell_type": "code",
   "execution_count": 108,
   "id": "f2850e91",
   "metadata": {},
   "outputs": [],
   "source": [
    "List_3_Copy.append(900)"
   ]
  },
  {
   "cell_type": "code",
   "execution_count": 111,
   "id": "29567b56",
   "metadata": {},
   "outputs": [
    {
     "name": "stdout",
     "output_type": "stream",
     "text": [
      "[40, 50, 60, 200, 500]\n"
     ]
    }
   ],
   "source": [
    "List_3_Copy.remove(800)\n",
    "print(List_3_Copy)\n"
   ]
  },
  {
   "cell_type": "code",
   "execution_count": 112,
   "id": "3f3fa5ad",
   "metadata": {},
   "outputs": [
    {
     "name": "stdout",
     "output_type": "stream",
     "text": [
      "[40, 50, 60, 200, 500]\n"
     ]
    }
   ],
   "source": [
    "print(List_3)"
   ]
  },
  {
   "cell_type": "code",
   "execution_count": null,
   "id": "dcec6dde",
   "metadata": {},
   "outputs": [],
   "source": []
  }
 ],
 "metadata": {
  "kernelspec": {
   "display_name": "Python 3",
   "language": "python",
   "name": "python3"
  },
  "language_info": {
   "codemirror_mode": {
    "name": "ipython",
    "version": 3
   },
   "file_extension": ".py",
   "mimetype": "text/x-python",
   "name": "python",
   "nbconvert_exporter": "python",
   "pygments_lexer": "ipython3",
   "version": "3.12.3"
  }
 },
 "nbformat": 4,
 "nbformat_minor": 5
}
