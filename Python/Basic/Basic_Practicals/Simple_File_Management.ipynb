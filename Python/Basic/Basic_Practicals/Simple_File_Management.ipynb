{
  "metadata": {
    "kernelspec": {
      "name": "python",
      "display_name": "Python (Pyodide)",
      "language": "python"
    },
    "language_info": {
      "codemirror_mode": {
        "name": "python",
        "version": 3
      },
      "file_extension": ".py",
      "mimetype": "text/x-python",
      "name": "python",
      "nbconvert_exporter": "python",
      "pygments_lexer": "ipython3",
      "version": "3.8"
    }
  },
  "nbformat_minor": 4,
  "nbformat": 4,
  "cells": [
    {
      "cell_type": "code",
      "source": "print(\"File Demo in the Python\")",
      "metadata": {
        "trusted": true
      },
      "outputs": [
        {
          "name": "stdout",
          "output_type": "stream",
          "text": "File Demo in the Python\n"
        }
      ],
      "execution_count": 1
    },
    {
      "cell_type": "code",
      "source": "# Basic Knowledge of Mode\n\n# 'r' - reading\n# 'w' - writing\n# 'a' - appending\n# 'x' - creating\n\n# 't' - text file\n# 'b' - binary file",
      "metadata": {
        "trusted": true
      },
      "outputs": [],
      "execution_count": 2
    },
    {
      "cell_type": "code",
      "source": "append_data = open('txt_1.txt','a')\nappend_data",
      "metadata": {
        "trusted": true
      },
      "outputs": [
        {
          "execution_count": 3,
          "output_type": "execute_result",
          "data": {
            "text/plain": "<_io.TextIOWrapper name='txt_1.txt' mode='a' encoding='UTF-8'>"
          },
          "metadata": {}
        }
      ],
      "execution_count": 3
    },
    {
      "cell_type": "code",
      "source": "append_data.write(\"Vraj Suratwala is doing basic practice of python!!\")\nappend_data.close()",
      "metadata": {
        "trusted": true
      },
      "outputs": [],
      "execution_count": 5
    },
    {
      "cell_type": "code",
      "source": "append_data = open('txt_1.txt','r')\nappend_data.readline()\nappend_data = open('txt_1.txt','r')\nprint(append_data.read(100))",
      "metadata": {
        "trusted": true
      },
      "outputs": [
        {
          "name": "stdout",
          "output_type": "stream",
          "text": "Vraj Suratwala is doing basic practice of python!!\n"
        }
      ],
      "execution_count": 19
    },
    {
      "cell_type": "code",
      "source": "append_data = open('txt_1.txt','r')\nfor i in append_data:\n    print(i)",
      "metadata": {
        "trusted": true
      },
      "outputs": [
        {
          "name": "stdout",
          "output_type": "stream",
          "text": "Vraj Suratwala is doing basic practice of python!!\n"
        }
      ],
      "execution_count": 17
    },
    {
      "cell_type": "code",
      "source": "append_data.close()",
      "metadata": {
        "trusted": true
      },
      "outputs": [],
      "execution_count": 20
    },
    {
      "cell_type": "raw",
      "source": "",
      "metadata": {}
    },
    {
      "cell_type": "code",
      "source": "import os",
      "metadata": {
        "trusted": true
      },
      "outputs": [],
      "execution_count": 21
    },
    {
      "cell_type": "code",
      "source": "os.remove('txt_1.txt')",
      "metadata": {
        "trusted": true
      },
      "outputs": [],
      "execution_count": 22
    },
    {
      "cell_type": "code",
      "source": "---",
      "metadata": {
        "trusted": true
      },
      "outputs": [],
      "execution_count": null
    }
  ]
}