{
 "cells": [
  {
   "cell_type": "code",
   "execution_count": 1,
   "id": "1311ca51",
   "metadata": {},
   "outputs": [
    {
     "name": "stdout",
     "output_type": "stream",
     "text": [
      "Hello World!\n"
     ]
    }
   ],
   "source": [
    "# Hello World!\n",
    "print(\"Hello World!\")"
   ]
  },
  {
   "cell_type": "code",
   "execution_count": null,
   "id": "2a94c1cf",
   "metadata": {},
   "outputs": [
    {
     "name": "stdout",
     "output_type": "stream",
     "text": [
      "{'Vraj': 'Suratwala', 'ABC': 'BCD'}\n",
      "<class 'dict'>\n"
     ]
    }
   ],
   "source": [
    "# Creating a Dictionary\n",
    "\n",
    "# Most Common Way to Create it!\n",
    "Dict_1 = {\n",
    "    \"Vraj\" : \"Suratwala\",\n",
    "    \"ABC\" : \"BCD\"\n",
    "}\n",
    "\n",
    "print(Dict_1)\n",
    "print(type(Dict_1))"
   ]
  },
  {
   "cell_type": "code",
   "execution_count": 4,
   "id": "79d4947b",
   "metadata": {},
   "outputs": [
    {
     "name": "stdout",
     "output_type": "stream",
     "text": [
      "{'Name': 'Vraj', 'Last_Name': 'Suratwala'}\n",
      "<class 'dict'>\n"
     ]
    }
   ],
   "source": [
    "# using dict() Constructor!\n",
    "Dict_2 = dict(Name = \"Vraj\",Last_Name = \"Suratwala\")\n",
    "\n",
    "print(Dict_2)\n",
    "print(type(Dict_2))"
   ]
  },
  {
   "cell_type": "code",
   "execution_count": 6,
   "id": "d18f597e",
   "metadata": {},
   "outputs": [
    {
     "name": "stdout",
     "output_type": "stream",
     "text": [
      "{'Name': 'Vraj', 'Last_Name': 'Suratwala'}\n",
      "<class 'dict'>\n",
      "{}\n",
      "{}\n",
      "<class 'dict'>\n",
      "<class 'dict'>\n"
     ]
    }
   ],
   "source": [
    "# From List of Tuples\n",
    "\n",
    "Dict_3 = dict([\n",
    "    (\"Name\",\"Vraj\"),\n",
    "    (\"Last_Name\",\"Suratwala\")\n",
    "])\n",
    "\n",
    "print(Dict_3)\n",
    "print(type(Dict_3))\n",
    "\n",
    "# Other ways \n",
    "\n",
    "# zip()\n",
    "# Dictionary Comprehensions\n",
    "\n",
    "# We can also create Empty Dictionary\n",
    "d1 = {}\n",
    "d2 = dict()\n",
    "\n",
    "print(d1)\n",
    "print(d2)\n",
    "\n",
    "print(type(d1))\n",
    "print(type(d2))\n"
   ]
  },
  {
   "cell_type": "code",
   "execution_count": 30,
   "id": "b4c7bfa7",
   "metadata": {},
   "outputs": [
    {
     "name": "stdout",
     "output_type": "stream",
     "text": [
      "{'ABC': 'BCD', 'CDE': 'EFG', 'Name': 'Vraj', 'Last_Name': 'Suratwala'}\n",
      "<class 'dict'>\n"
     ]
    }
   ],
   "source": [
    "# Creating the List from JSON DATA.\n",
    "\n",
    "import json \n",
    "Dict_4 = json.loads(\"\"\"{\n",
    "    \"ABC\" : \"BCD\",\n",
    "    \"CDE\" : \"EFG\",\n",
    "    \"Name\" : \"Vraj\",\n",
    "    \"Last_Name\" : \"Suratwala\"    \n",
    "}\"\"\")\n",
    "\n",
    "print(Dict_4)\n",
    "print(type(Dict_4))"
   ]
  },
  {
   "cell_type": "code",
   "execution_count": null,
   "id": "d669eaf5",
   "metadata": {},
   "outputs": [
    {
     "name": "stdout",
     "output_type": "stream",
     "text": [
      "Vraj\n",
      "Vraj\n"
     ]
    }
   ],
   "source": [
    "# Accessing The Elements from Dict_4\n",
    "\n",
    "# Access using Key\n",
    "print(Dict_4[\"Name\"])\n",
    "\n",
    "# Access using get()\n",
    "print(Dict_4.get(\"Name\"))"
   ]
  },
  {
   "cell_type": "code",
   "execution_count": 28,
   "id": "c4b8dfe6",
   "metadata": {},
   "outputs": [
    {
     "name": "stdout",
     "output_type": "stream",
     "text": [
      "{1: 'Python dict', 2: 'For', 3: 'Geeks', 'age': 22}\n"
     ]
    }
   ],
   "source": [
    "d = {1: 'Geeks', 2: 'For', 3: 'Geeks'}\n",
    "\n",
    "# Adding a new key-value pair\n",
    "d[\"age\"] = 22\n",
    "\n",
    "# Updating an existing value\n",
    "d[1] = \"Python dict\"\n",
    "\n",
    "print(d)\n"
   ]
  },
  {
   "cell_type": "code",
   "execution_count": 20,
   "id": "0611772d",
   "metadata": {},
   "outputs": [
    {
     "data": {
      "text/plain": [
       "'Python dict'"
      ]
     },
     "execution_count": 20,
     "metadata": {},
     "output_type": "execute_result"
    }
   ],
   "source": [
    "# Deletion\n",
    "\n",
    "# pop() - Removes an item by key and returns its value.\n",
    "d.pop(1)"
   ]
  },
  {
   "cell_type": "code",
   "execution_count": 19,
   "id": "59954568",
   "metadata": {},
   "outputs": [],
   "source": [
    "# del statement : deleted the item by key\n",
    "del Dict_4[\"Name\"]"
   ]
  },
  {
   "cell_type": "code",
   "execution_count": 22,
   "id": "0bf60497",
   "metadata": {},
   "outputs": [],
   "source": [
    "# clear - clear whole dictionary\n",
    "Dict_4.clear()"
   ]
  },
  {
   "cell_type": "code",
   "execution_count": 31,
   "id": "af20a89e",
   "metadata": {},
   "outputs": [
    {
     "data": {
      "text/plain": [
       "('Last_Name', 'Suratwala')"
      ]
     },
     "execution_count": 31,
     "metadata": {},
     "output_type": "execute_result"
    }
   ],
   "source": [
    "# popitem(): Removes and returns the last key-value pair.\n",
    "Dict_4.popitem()\n"
   ]
  },
  {
   "cell_type": "code",
   "execution_count": 32,
   "id": "a8a288a0",
   "metadata": {},
   "outputs": [
    {
     "name": "stdout",
     "output_type": "stream",
     "text": [
      "1\n",
      "2\n",
      "age\n",
      "Geeks\n",
      "For\n",
      "22\n",
      "1: Geeks\n",
      "2: For\n",
      "age: 22\n"
     ]
    }
   ],
   "source": [
    "d = {1: 'Geeks', 2: 'For', 'age':22}\n",
    "\n",
    "# Iterate over keys\n",
    "for key in d:\n",
    "    print(key)\n",
    "\n",
    "# Iterate over values\n",
    "for value in d.values():\n",
    "    print(value)\n",
    "\n",
    "# Iterate over key-value pairs\n",
    "for key, value in d.items():\n",
    "    print(f\"{key}: {value}\")\n"
   ]
  },
  {
   "cell_type": "code",
   "execution_count": 34,
   "id": "eec98d9c",
   "metadata": {},
   "outputs": [
    {
     "name": "stdout",
     "output_type": "stream",
     "text": [
      "A\n",
      "B\n",
      "C\n",
      "D\n",
      "1\n",
      "2\n",
      "3\n",
      "4\n"
     ]
    }
   ],
   "source": [
    "# Indexing and Slicing\n",
    "Dict_5 = {\n",
    "    \"A\" : 1,\n",
    "    \"B\" : 2,\n",
    "    \"C\" : 3,\n",
    "    \"D\" :4\n",
    "}\n",
    "\n",
    "Keys = list(Dict_5.keys())\n",
    "print(Keys[0])\n",
    "print(Keys[1])\n",
    "print(Keys[2])\n",
    "print(Keys[3])\n",
    "\n",
    "# getting Values\n",
    "Values = list(Dict_5.values())\n",
    "print(Values[0])\n",
    "print(Values[1])\n",
    "print(Values[2])\n",
    "print(Values[3])"
   ]
  },
  {
   "cell_type": "code",
   "execution_count": null,
   "id": "beb13cde",
   "metadata": {},
   "outputs": [
    {
     "name": "stdout",
     "output_type": "stream",
     "text": [
      "[('A', 1), ('B', 2), ('C', 3), ('D', 4)]\n",
      "[('A', 1), ('B', 2)]\n",
      "[('B', 2)]\n",
      "[('B', 2), ('C', 3)]\n",
      "[('A', 1), ('B', 2), ('C', 3)]\n"
     ]
    }
   ],
   "source": [
    "# Slicing\n",
    "\n",
    "# Positive Slicing\n",
    "Items = list(Dict_5.items())[0:]\n",
    "print(Items)\n",
    "\n",
    "Items = list(Dict_5.items())[:2]\n",
    "print(Items)\n",
    "\n",
    "Items = list(Dict_5.items())[1:2]\n",
    "print(Items)\n",
    "\n",
    "# Negative Slicing\n",
    "Items = list(Dict_5.items())[-3:-1]\n",
    "print(Items)\n",
    "\n",
    "Items = list(Dict_5.items())[:-1]\n",
    "print(Items)"
   ]
  },
  {
   "cell_type": "code",
   "execution_count": 42,
   "id": "28b08673",
   "metadata": {},
   "outputs": [
    {
     "name": "stdout",
     "output_type": "stream",
     "text": [
      "{1: 'Geeks', 2: 'For', 3: {'A': 'Welcome', 'B': 'To', 'C': 'Geeks'}}\n"
     ]
    }
   ],
   "source": [
    "# Nested Dictionary\n",
    "\n",
    "d = {1: 'Geeks', 2: 'For',\n",
    "        3: {'A': 'Welcome', 'B': 'To', 'C': 'Geeks'}}\n",
    "\n",
    "print(d)"
   ]
  },
  {
   "cell_type": "code",
   "execution_count": null,
   "id": "664efab5",
   "metadata": {},
   "outputs": [
    {
     "name": "stdout",
     "output_type": "stream",
     "text": [
      "{'A': 'Welcome', 'B': 'To', 'C': 'Geeks'}\n",
      "Welcome\n"
     ]
    }
   ],
   "source": [
    "# Accessing Data From That!\n",
    "dict_data = d[3]\n",
    "print(dict_data)\n",
    "\n",
    "print(dict_data['A'])"
   ]
  },
  {
   "cell_type": "code",
   "execution_count": 52,
   "id": "0de3885f",
   "metadata": {},
   "outputs": [
    {
     "name": "stdout",
     "output_type": "stream",
     "text": [
      "3\n",
      "<class 'dict'>\n",
      "{1: 'Geeks', 2: 'For', 3: {'A': 'Welcome', 'B': 'To', 'C': 'Geeks'}}\n",
      "3\n",
      "1\n",
      "6\n",
      "[1, 2, 3]\n"
     ]
    }
   ],
   "source": [
    "# Use of Built in Functions\n",
    "\n",
    "print(len(d))\n",
    "print(type(d))\n",
    "print(str(d))\n",
    "print(max(d))\n",
    "print(min(d))\n",
    "print(sum(d))\n",
    "print(sorted(d))"
   ]
  },
  {
   "cell_type": "code",
   "execution_count": null,
   "id": "e3c2aa39",
   "metadata": {},
   "outputs": [],
   "source": []
  }
 ],
 "metadata": {
  "kernelspec": {
   "display_name": "Python 3",
   "language": "python",
   "name": "python3"
  },
  "language_info": {
   "codemirror_mode": {
    "name": "ipython",
    "version": 3
   },
   "file_extension": ".py",
   "mimetype": "text/x-python",
   "name": "python",
   "nbconvert_exporter": "python",
   "pygments_lexer": "ipython3",
   "version": "3.12.3"
  }
 },
 "nbformat": 4,
 "nbformat_minor": 5
}
