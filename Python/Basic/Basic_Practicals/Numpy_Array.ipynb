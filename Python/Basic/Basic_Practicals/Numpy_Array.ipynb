{
 "cells": [
  {
   "cell_type": "code",
   "execution_count": 1,
   "id": "bf883d57",
   "metadata": {},
   "outputs": [
    {
     "name": "stdout",
     "output_type": "stream",
     "text": [
      "Numpy\n"
     ]
    }
   ],
   "source": [
    "print(\"Numpy\")"
   ]
  },
  {
   "cell_type": "code",
   "execution_count": 4,
   "id": "95d7f7f7",
   "metadata": {},
   "outputs": [
    {
     "name": "stdout",
     "output_type": "stream",
     "text": [
      "Numpy is Loaded\n"
     ]
    }
   ],
   "source": [
    "# Importing The Numpy Library.\n",
    "import numpy as np\n",
    "\n",
    "if(np):\n",
    "    print(\"Numpy is Loaded\")\n",
    "else:\n",
    "    print(\"Numpy is not available!\")"
   ]
  },
  {
   "cell_type": "code",
   "execution_count": 6,
   "id": "b076b522",
   "metadata": {},
   "outputs": [
    {
     "name": "stdout",
     "output_type": "stream",
     "text": [
      "[ 1  2  3  4  5  6  7  8  9 10]\n"
     ]
    }
   ],
   "source": [
    "# Creating a Numpy Array!\n",
    "\n",
    "array_1 = np.array([1,2,3,4,5,6,7,8,9,10])\n",
    "print(array_1)"
   ]
  },
  {
   "cell_type": "code",
   "execution_count": 11,
   "id": "b39a91e9",
   "metadata": {},
   "outputs": [
    {
     "name": "stdout",
     "output_type": "stream",
     "text": [
      "[[1 2 3]\n",
      " [4 5 6]\n",
      " [7 8 9]]\n"
     ]
    }
   ],
   "source": [
    "# Creating 2_D Array\n",
    "array_2 = np.array([[1,2,3],[4,5,6],[7,8,9]])\n",
    "print(array_2)"
   ]
  },
  {
   "cell_type": "code",
   "execution_count": 13,
   "id": "d5d3b64e",
   "metadata": {},
   "outputs": [
    {
     "name": "stdout",
     "output_type": "stream",
     "text": [
      "[1 2 3 4 5]\n",
      "<class 'numpy.ndarray'>\n"
     ]
    }
   ],
   "source": [
    "# Creating an Array from Tuple.\n",
    "array_3 = np.array((1,2,3,4,5))\n",
    "print(array_3)\n",
    "print(type(array_3))"
   ]
  },
  {
   "cell_type": "code",
   "execution_count": null,
   "id": "38611cd2",
   "metadata": {},
   "outputs": [
    {
     "name": "stdout",
     "output_type": "stream",
     "text": [
      "[ 100  200  300  400  500  600  700  800  900 1000]\n",
      "[100 200 300 400 500]\n",
      "[600 700]\n",
      "[ 100  200  300  400  500  600  700  800  900 1000]\n",
      "[100 200 300 400 500 600 700]\n",
      "[500 600]\n",
      "[100 200 300 400 500 600 700 800 900]\n",
      "[700 800]\n"
     ]
    }
   ],
   "source": [
    "# Indexing fom Numpy Array\n",
    "\n",
    "array_4 = np.array([100,200,300,400,500,600,700,800,900,1000])\n",
    "print(array_4[:])\n",
    "print(array_4[0:5])\n",
    "print(array_4[5:7])\n",
    "print(array_4[0:])\n",
    "print(array_4[:7])\n",
    "\n",
    "# Negative Indexing\n",
    "\n",
    "print(array_4[-6:-4])\n",
    "print(array_4[:-1])\n",
    "print(array_4[-4:-2])"
   ]
  },
  {
   "cell_type": "code",
   "execution_count": 35,
   "id": "4659260a",
   "metadata": {},
   "outputs": [
    {
     "name": "stdout",
     "output_type": "stream",
     "text": [
      "Adding 10 to Each Element :  [[11 12]\n",
      " [13 14]]\n",
      "Adding 10 to Each Element :  [[22 23]\n",
      " [24 25]]\n",
      "Subtracting 10 to Each Element :  [[-8 -7]\n",
      " [-6 -5]]\n",
      "Addition of Array 1 :  10\n",
      "Addition of Array 2 :  14\n",
      "Addition :  [[3 5]\n",
      " [7 9]]\n",
      "Subtraction :  [[-1 -1]\n",
      " [-1 -1]]\n",
      "Multiplication :  [[ 2  6]\n",
      " [12 20]]\n",
      "Division :  [[0.5        0.66666667]\n",
      " [0.75       0.8       ]]\n"
     ]
    }
   ],
   "source": [
    "# Basic Array Operations\n",
    "\n",
    "a1 = np.array([[1,2],[3,4]])\n",
    "a2 = np.array([[2,3],[4,5]])\n",
    "\n",
    "print(\"Adding 10 to Each Element : \" , (a1+10))\n",
    "print(\"Adding 10 to Each Element : \" , (a2+20))\n",
    "\n",
    "print(\"Subtracting 10 to Each Element : \" , (a2-10))\n",
    "\n",
    "# Getting Sum of Whole Array!\n",
    "\n",
    "print(\"Addition of Array 1 : \" , a1.sum())\n",
    "\n",
    "print(\"Addition of Array 2 : \" , a2.sum())\n",
    "\n",
    "# Performing Binary Array Operations.\n",
    "\n",
    "print(\"Addition : \",a1+a2)\n",
    "print(\"Subtraction : \",a1-a2)\n",
    "print(\"Multiplication : \",a1*a2)\n",
    "print(\"Division : \",a1/a2)"
   ]
  },
  {
   "cell_type": "code",
   "execution_count": 36,
   "id": "2ecb9d92",
   "metadata": {},
   "outputs": [
    {
     "name": "stdout",
     "output_type": "stream",
     "text": [
      "[[0. 0. 0.]\n",
      " [0. 0. 0.]\n",
      " [0. 0. 0.]]\n",
      "<class 'numpy.ndarray'>\n"
     ]
    }
   ],
   "source": [
    "# Numpy Functions!\n",
    "\n",
    "# .zeros((row,col)) - create pure zero array for specific Row and Column\n",
    "Array_of_Zeros = np.zeros((3,3))\n",
    "print(Array_of_Zeros)\n",
    "print(type(Array_of_Zeros))\n"
   ]
  },
  {
   "cell_type": "code",
   "execution_count": 37,
   "id": "52d2d090",
   "metadata": {},
   "outputs": [
    {
     "name": "stdout",
     "output_type": "stream",
     "text": [
      "[[1. 1. 1. 1. 1.]\n",
      " [1. 1. 1. 1. 1.]\n",
      " [1. 1. 1. 1. 1.]\n",
      " [1. 1. 1. 1. 1.]\n",
      " [1. 1. 1. 1. 1.]]\n",
      "<class 'numpy.ndarray'>\n"
     ]
    }
   ],
   "source": [
    "# .ones((row,col)) - Create Pure Array with 1 Value for Specific Row and Column\n",
    "Array_of_ones = np.ones((5,5))\n",
    "print(Array_of_ones)\n",
    "print(type(Array_of_ones))"
   ]
  },
  {
   "cell_type": "code",
   "execution_count": 39,
   "id": "843f6300",
   "metadata": {},
   "outputs": [
    {
     "name": "stdout",
     "output_type": "stream",
     "text": [
      "[0 2 4 6 8]\n",
      "<class 'numpy.ndarray'>\n"
     ]
    }
   ],
   "source": [
    "# .range(starting number, ending number, skipping Value)\n",
    "\n",
    "Arrays_of_Ranges = np.arange(0,10,2)\n",
    "print(Arrays_of_Ranges)\n",
    "print(type(Arrays_of_Ranges))"
   ]
  },
  {
   "cell_type": "code",
   "execution_count": null,
   "id": "778d35fa",
   "metadata": {},
   "outputs": [
    {
     "name": "stdout",
     "output_type": "stream",
     "text": [
      "[1.00000000e+00 7.38905610e+00 5.45981500e+01 4.03428793e+02\n",
      " 2.98095799e+03]\n",
      "[2.68811714e+043 7.22597377e+086 1.94242640e+130 5.22146969e+173\n",
      " 1.40359222e+217 3.77302030e+260 1.01423205e+304             inf\n",
      "             inf             inf]\n"
     ]
    },
    {
     "name": "stderr",
     "output_type": "stream",
     "text": [
      "C:\\Users\\Vraj Suratwala\\AppData\\Local\\Temp\\ipykernel_85604\\887214704.py:5: RuntimeWarning: overflow encountered in exp\n",
      "  print(np.exp(array_4))\n"
     ]
    }
   ],
   "source": [
    "# Getting Exponential of an Array\n",
    "print(np.exp(Arrays_of_Ranges)) \n",
    "\n",
    "# Getting Square Root of Array Elements\n",
    "print(np.exp(array_4))"
   ]
  },
  {
   "cell_type": "code",
   "execution_count": 49,
   "id": "1156ae14",
   "metadata": {},
   "outputs": [
    {
     "name": "stdout",
     "output_type": "stream",
     "text": [
      "\n",
      "Array sorted by names:\n",
      " [(b'Aakash', 2009, 9. ) (b'Ajay', 2008, 8.7) (b'Hrithik', 2009, 8.5)\n",
      " (b'Pankaj', 2008, 7.9)]\n",
      "Array sorted by graduation year and then cgpa:\n",
      " [(b'Pankaj', 2008, 7.9) (b'Ajay', 2008, 8.7) (b'Hrithik', 2009, 8.5)\n",
      " (b'Aakash', 2009, 9. )]\n"
     ]
    }
   ],
   "source": [
    "# Numpy Sorting Arrays\n",
    "\n",
    "# Values to be put in array\n",
    "values = [('Hrithik', 2009, 8.5), ('Ajay', 2008, 8.7), \n",
    "           ('Pankaj', 2008, 7.9), ('Aakash', 2009, 9.0)]\n",
    "\n",
    "# Creating array\n",
    "arr = np.array(values, dtype = dtypes)\n",
    "print (\"\\nArray sorted by names:\\n\",np.sort(arr, order = 'name'))\n",
    "\n",
    "print (\"Array sorted by graduation year and then cgpa:\\n\",\n",
    "                np.sort(arr, order = ['grad_year', 'cgpa']))"
   ]
  },
  {
   "cell_type": "code",
   "execution_count": 52,
   "id": "ed207f7c",
   "metadata": {},
   "outputs": [
    {
     "name": "stdout",
     "output_type": "stream",
     "text": [
      "int32\n",
      "[1 2]\n",
      "float64\n",
      "[1. 2.]\n",
      "int64\n",
      "[1 2]\n"
     ]
    }
   ],
   "source": [
    "# Constructing Data Type\n",
    "\n",
    "# Integer datatype\n",
    "x = np.array([1, 2])  \n",
    "print(x.dtype)  \n",
    "print(x)       \n",
    " \n",
    "# Float datatype\n",
    "x = np.array([1.0, 2.0]) \n",
    "print(x.dtype) \n",
    "print(x) \n",
    " \n",
    "# Forced Datatype\n",
    "x = np.array([1.0, 2.0], dtype = np.int64)   \n",
    "print(x.dtype)\n",
    "print(x)\n"
   ]
  },
  {
   "cell_type": "code",
   "execution_count": 56,
   "id": "c1088c5a",
   "metadata": {},
   "outputs": [
    {
     "name": "stdout",
     "output_type": "stream",
     "text": [
      "[[  1  10]\n",
      " [  2  20]\n",
      " [  3  30]\n",
      " [  4  40]\n",
      " [  5  50]\n",
      " [  6  60]\n",
      " [  7  70]\n",
      " [  8  80]\n",
      " [  9  90]\n",
      " [ 10 100]]\n"
     ]
    }
   ],
   "source": [
    "# Transposing an Array\n",
    "\n",
    "T_Array = np.array([[1,2,3,4,5,6,7,8,9,10],[10,20,30,40,50,60,70,80,90,100]])\n",
    "T_Array = T_Array.T\n",
    "print(T_Array)"
   ]
  },
  {
   "cell_type": "code",
   "execution_count": 60,
   "id": "46f5240b",
   "metadata": {},
   "outputs": [
    {
     "name": "stdout",
     "output_type": "stream",
     "text": [
      "[[7 7 7]\n",
      " [7 7 7]\n",
      " [7 7 7]]\n"
     ]
    }
   ],
   "source": [
    "# Creating full array with specific elements.\n",
    "\n",
    "array_full = np.full((3,3),7)\n",
    "print(array_full)"
   ]
  },
  {
   "cell_type": "code",
   "execution_count": 63,
   "id": "94e17954",
   "metadata": {},
   "outputs": [
    {
     "name": "stdout",
     "output_type": "stream",
     "text": [
      "[[11 12 13]\n",
      " [14 15 16]\n",
      " [17 18 19]]\n",
      "<class 'numpy.ndarray'>\n"
     ]
    }
   ],
   "source": [
    "# Creating an Array using Reshape and arange Method!\n",
    "\n",
    "array_reshape_range = np.arange(11,20).reshape(3,3)\n",
    "print(array_reshape_range)\n",
    "print(type(array_reshape_range))"
   ]
  },
  {
   "cell_type": "code",
   "execution_count": 65,
   "id": "9e4f5754",
   "metadata": {},
   "outputs": [
    {
     "name": "stdout",
     "output_type": "stream",
     "text": [
      "[[852 857 430]\n",
      " [696 406 803]\n",
      " [462 423 965]]\n"
     ]
    }
   ],
   "source": [
    "# Creating an Array using using random.randint().reshape\n",
    "\n",
    "array_random_reshape = np.random.randint(100,1000,9).reshape(3,3)\n",
    "print(array_random_reshape)"
   ]
  },
  {
   "cell_type": "code",
   "execution_count": 67,
   "id": "afed0581",
   "metadata": {},
   "outputs": [
    {
     "name": "stdout",
     "output_type": "stream",
     "text": [
      "Dimension :  2\n",
      "Size of Array :  9\n",
      "Shape :  (3, 3)\n"
     ]
    }
   ],
   "source": [
    "# Getting The Dimension For any Numpy Array\n",
    "\n",
    "print(\"Dimension : \" , array_random_reshape.ndim)\n",
    "\n",
    "# Getting size of an Array\n",
    "\n",
    "print(\"Size of Array : \" , array_random_reshape.size)\n",
    "\n",
    "# Getting Shape of an Array\n",
    "\n",
    "print(\"Shape : \" , array_random_reshape.shape)"
   ]
  },
  {
   "cell_type": "code",
   "execution_count": 71,
   "id": "97aeec9e",
   "metadata": {},
   "outputs": [
    {
     "name": "stdout",
     "output_type": "stream",
     "text": [
      "[2010 1686 2198]\n",
      "406\n",
      "965\n"
     ]
    }
   ],
   "source": [
    "# Getting sum,min and max\n",
    "\n",
    "print(sum(array_random_reshape))\n",
    "print(array_random_reshape.min())\n",
    "print(array_random_reshape.max())"
   ]
  },
  {
   "cell_type": "code",
   "execution_count": 72,
   "id": "0e3a8718",
   "metadata": {},
   "outputs": [
    {
     "name": "stdout",
     "output_type": "stream",
     "text": [
      "[[11. 14.]\n",
      " [17. 20.]]\n"
     ]
    }
   ],
   "source": [
    "array_5=np.linspace(11,20,4)\n",
    "array_5.shape=(2,2)\n",
    "print(array_5)"
   ]
  },
  {
   "cell_type": "code",
   "execution_count": 75,
   "id": "3256a181",
   "metadata": {},
   "outputs": [
    {
     "name": "stdout",
     "output_type": "stream",
     "text": [
      "15.5\n",
      "15.5\n",
      "3.3541019662496847\n"
     ]
    }
   ],
   "source": [
    "# Stat Operations.\n",
    "\n",
    "print(np.mean(array_5))\n",
    "print(np.median(array_5))\n",
    "print(np.std(array_5))\n"
   ]
  },
  {
   "cell_type": "code",
   "execution_count": 76,
   "id": "20302c0a",
   "metadata": {},
   "outputs": [
    {
     "name": "stdout",
     "output_type": "stream",
     "text": [
      "[False False  True  True  True]\n",
      "False\n"
     ]
    }
   ],
   "source": [
    "a = np.array([10,20,30,40,50])\n",
    "b = np.array([1,2,30,40,50])\n",
    "\n",
    "print(np.equal(a,b))\n",
    "print(np.array_equal(a,b))\n"
   ]
  },
  {
   "cell_type": "code",
   "execution_count": 77,
   "id": "b15f2b74",
   "metadata": {},
   "outputs": [
    {
     "data": {
      "text/plain": [
       "array([[10, 20, 30, 40, 50],\n",
       "       [ 1,  2, 30, 40, 50]])"
      ]
     },
     "execution_count": 77,
     "metadata": {},
     "output_type": "execute_result"
    }
   ],
   "source": [
    "np.vstack((a,b))"
   ]
  },
  {
   "cell_type": "code",
   "execution_count": 78,
   "id": "6cfcb082",
   "metadata": {},
   "outputs": [
    {
     "data": {
      "text/plain": [
       "array([10, 20, 30, 40, 50,  1,  2, 30, 40, 50])"
      ]
     },
     "execution_count": 78,
     "metadata": {},
     "output_type": "execute_result"
    }
   ],
   "source": [
    "np.hstack((a,b))"
   ]
  },
  {
   "cell_type": "code",
   "execution_count": 79,
   "id": "f0e82ef8",
   "metadata": {},
   "outputs": [
    {
     "data": {
      "text/plain": [
       "array([10, 20, 30, 40, 50,  1,  2, 30, 40, 50])"
      ]
     },
     "execution_count": 79,
     "metadata": {},
     "output_type": "execute_result"
    }
   ],
   "source": [
    "np.concatenate((a,b))"
   ]
  },
  {
   "cell_type": "code",
   "execution_count": 80,
   "id": "000eb8a0",
   "metadata": {},
   "outputs": [
    {
     "data": {
      "text/plain": [
       "array([30, 40, 50])"
      ]
     },
     "execution_count": 80,
     "metadata": {},
     "output_type": "execute_result"
    }
   ],
   "source": [
    "np.intersect1d(a,b)"
   ]
  },
  {
   "cell_type": "code",
   "execution_count": 81,
   "id": "8136bdf4",
   "metadata": {},
   "outputs": [
    {
     "data": {
      "text/plain": [
       "array([10, 20])"
      ]
     },
     "execution_count": 81,
     "metadata": {},
     "output_type": "execute_result"
    }
   ],
   "source": [
    "np.setdiff1d(a,b)"
   ]
  },
  {
   "cell_type": "code",
   "execution_count": 83,
   "id": "67ca3c21",
   "metadata": {},
   "outputs": [
    {
     "data": {
      "text/plain": [
       "array([1, 2])"
      ]
     },
     "execution_count": 83,
     "metadata": {},
     "output_type": "execute_result"
    }
   ],
   "source": [
    "np.setdiff1d(b,a)"
   ]
  },
  {
   "cell_type": "code",
   "execution_count": 84,
   "id": "b5623b9c",
   "metadata": {},
   "outputs": [],
   "source": [
    "# How to Save The Array?\n",
    "np.save(\"Saved_Array\",array_5)"
   ]
  },
  {
   "cell_type": "code",
   "execution_count": 88,
   "id": "30d813fd",
   "metadata": {},
   "outputs": [
    {
     "name": "stdout",
     "output_type": "stream",
     "text": [
      "[[11. 14.]\n",
      " [17. 20.]]\n"
     ]
    }
   ],
   "source": [
    "# Loading The Array Which we saved!\n",
    "\n",
    "array_which_was_saved = np.load('Saved_Array.npy')\n",
    "print(array_which_was_saved)"
   ]
  }
 ],
 "metadata": {
  "kernelspec": {
   "display_name": "Python 3",
   "language": "python",
   "name": "python3"
  },
  "language_info": {
   "codemirror_mode": {
    "name": "ipython",
    "version": 3
   },
   "file_extension": ".py",
   "mimetype": "text/x-python",
   "name": "python",
   "nbconvert_exporter": "python",
   "pygments_lexer": "ipython3",
   "version": "3.12.3"
  }
 },
 "nbformat": 4,
 "nbformat_minor": 5
}
